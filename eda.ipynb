{
 "cells": [
  {
   "cell_type": "code",
   "execution_count": 4,
   "id": "d4e3b2a6",
   "metadata": {},
   "outputs": [],
   "source": [
    "import pandas as pd\n",
    "import numpy as np\n",
    "from scipy import stats\n",
    "from sklearn.tree import DecisionTreeRegressor\n",
    "from sklearn.model_selection import train_test_split\n",
    "from sklearn.metrics import mean_squared_error\n",
    "import matplotlib.pyplot as plt\n",
    "import seaborn as sns\n",
    "import pandas as pd\n",
    "import matplotlib.pyplot as plt\n",
    "import seaborn as sns\n",
    "sns.set() \n",
    "from sklearn.datasets import load_iris\n",
    "from sklearn.metrics import accuracy_score, classification_report\n",
    "from sklearn.model_selection import train_test_split\n",
    "from sklearn.neighbors import KNeighborsClassifier\n",
    "sns.set_style('darkgrid')\n"
   ]
  },
  {
   "cell_type": "markdown",
   "id": "296768fe",
   "metadata": {},
   "source": [
    "## Data Preperation"
   ]
  },
  {
   "cell_type": "code",
   "execution_count": 5,
   "id": "48dd889f",
   "metadata": {},
   "outputs": [],
   "source": [
    "combined = pd.read_csv('merged.csv')\n",
    "combined = pd.get_dummies(combined, drop_first=True)\n",
    "for n in [1,2,3,4,5,6,8,9]:\n",
    "    name = 'WT0' + str(n)\n",
    "    combined[name] = combined[name].astype('int')\n",
    "combined = combined.replace(np.nan, 0)\n",
    "X   = combined[['AWND', 'PRCP', 'SNOW', 'TAVG', 'TMAX', 'TMIN','WT01','WT02','WT03','WT04','WT05',\n",
    "                'WT06','WT08','WT09']] \n",
    "y   = combined['DEPARTURE_DELAY'] \n",
    "\n",
    "X_train, X_test, y_train, y_test = train_test_split(X,              \n",
    "                                                    y,              \n",
    "                                                    test_size=0.3,  \n",
    "                                                    random_state=7 \n",
    "                                                   )"
   ]
  },
  {
   "cell_type": "markdown",
   "id": "d09f2d42",
   "metadata": {},
   "source": [
    "## Decision Tree Model"
   ]
  },
  {
   "cell_type": "code",
   "execution_count": 6,
   "id": "8f7fe161",
   "metadata": {},
   "outputs": [],
   "source": [
    "dt = DecisionTreeRegressor(random_state=7)\n",
    "dt.fit(X_train, y_train)\n",
    "y_pred   = dt.predict(X_test)"
   ]
  },
  {
   "cell_type": "code",
   "execution_count": 7,
   "id": "ced0a95b",
   "metadata": {},
   "outputs": [
    {
     "name": "stdout",
     "output_type": "stream",
     "text": [
      "The mse of the model is: 245.92\n"
     ]
    }
   ],
   "source": [
    "mse = mean_squared_error(y_test, y_pred)\n",
    "print('The mse of the model is: {}'.format(mse))"
   ]
  },
  {
   "cell_type": "markdown",
   "id": "04d17f79",
   "metadata": {},
   "source": [
    "## Nearest Neighbots Model"
   ]
  },
  {
   "cell_type": "code",
   "execution_count": 8,
   "id": "fe6d7bed",
   "metadata": {},
   "outputs": [],
   "source": [
    "#KNN\n",
    "knn = KNeighborsClassifier(n_neighbors = 41) \n",
    "\n",
    "knn.fit(X_train, y_train)\n",
    "y_pred   = knn.predict(X_test)"
   ]
  },
  {
   "cell_type": "code",
   "execution_count": 9,
   "id": "4668b7e9",
   "metadata": {},
   "outputs": [
    {
     "name": "stdout",
     "output_type": "stream",
     "text": [
      "The accuracy of the model is: 0.11\n"
     ]
    }
   ],
   "source": [
    "print('The accuracy of the model is: {}'.format(knn.score(X_test, y_test)))"
   ]
  },
  {
   "cell_type": "markdown",
   "id": "7ef1eb9a",
   "metadata": {},
   "source": [
    "## Check k value"
   ]
  },
  {
   "cell_type": "code",
   "execution_count": 10,
   "id": "4508aaa2",
   "metadata": {},
   "outputs": [
    {
     "data": {
      "image/png": "[encoded data removed]",
      "text/plain": [
       "<Figure size 432x288 with 1 Axes>"
      ]
     },
     "metadata": {},
     "output_type": "display_data"
    }
   ],
   "source": [
    "predictions = {}\n",
    "\n",
    "for k in range(3, 50, 2):\n",
    "    knn = KNeighborsClassifier(n_neighbors = k)\n",
    "    knn.fit(X_train, y_train)\n",
    "    predictions[k] = knn.score(X_test, y_test)\n",
    "sns.lineplot(x=predictions.keys(), y=predictions.values())\n",
    "plt.show()"
   ]
  },
  {
   "cell_type": "code",
   "execution_count": 11,
   "id": "a16812de",
   "metadata": {},
   "outputs": [
    {
     "name": "stdout",
     "output_type": "stream",
     "text": [
      "-0.08719756968394514\n"
     ]
    }
   ],
   "source": [
    "slope, intercept, r_value, p_value, std_err = stats.linregress(y_test, y_pred)\n",
    "print(r_value)"
   ]
  }
 ],
 "metadata": {
  "kernelspec": {
   "display_name": "Python 3",
   "language": "python",
   "name": "python3"
  },
  "language_info": {
   "codemirror_mode": {
    "name": "ipython",
    "version": 3
   },
   "file_extension": ".py",
   "mimetype": "text/x-python",
   "name": "python",
   "nbconvert_exporter": "python",
   "pygments_lexer": "ipython3",
   "version": "3.8.9"
  }
 },
 "nbformat": 4,
 "nbformat_minor": 5
}
