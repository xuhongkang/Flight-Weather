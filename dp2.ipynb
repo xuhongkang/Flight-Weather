{
 "cells": [
  {
   "cell_type": "code",
   "execution_count": 1,
   "metadata": {},
   "outputs": [],
   "source": [
    "import pandas as pd\n",
    "import numpy as np\n",
    "from sklearn.tree import DecisionTreeRegressor\n",
    "from sklearn.model_selection import train_test_split\n",
    "from sklearn.metrics import mean_squared_error\n",
    "import matplotlib.pyplot as plt\n",
    "import seaborn as sns\n",
    "import pandas as pd\n",
    "import matplotlib.pyplot as plt\n",
    "import seaborn as sns\n",
    "sns.set() \n",
    "from sklearn.datasets import load_iris\n",
    "from sklearn.metrics import accuracy_score, classification_report\n",
    "from sklearn.model_selection import train_test_split\n",
    "from sklearn.neighbors import KNeighborsClassifier\n",
    "sns.set_style('darkgrid')"
   ]
  },
  {
   "cell_type": "code",
   "execution_count": 2,
   "metadata": {},
   "outputs": [],
   "source": [
    "airlines = \"data/airlines.csv\" #Irrelevant\n",
    "airports = \"data/airports.csv\" #Boston Logan International Airport Code: BOS\n",
    "flights = \"data/flights.csv\"\n",
    "weather = \"data/USW00014739.2015.csv\""
   ]
  },
  {
   "cell_type": "markdown",
   "metadata": {},
   "source": [
    "## Process Flight Dataset"
   ]
  },
  {
   "cell_type": "code",
   "execution_count": 3,
   "metadata": {},
   "outputs": [
    {
     "name": "stderr",
     "output_type": "stream",
     "text": [
      "/Users/xhk/Library/Python/3.8/lib/python/site-packages/IPython/core/interactiveshell.py:3444: DtypeWarning: Columns (7,8) have mixed types.Specify dtype option on import or set low_memory=False.\n",
      "  exec(code_obj, self.user_global_ns, self.user_ns)\n"
     ]
    }
   ],
   "source": [
    "flight_df = pd.read_csv(flights)"
   ]
  },
  {
   "cell_type": "code",
   "execution_count": 4,
   "metadata": {},
   "outputs": [
    {
     "name": "stdout",
     "output_type": "stream",
     "text": [
      "         MONTH  DAY  DEPARTURE_DELAY  DATE\n",
      "65           1    1             -4.0     1\n",
      "71           1    1             -5.0     1\n",
      "104          1    1             -4.0     1\n",
      "108          1    1             -3.0     1\n",
      "121          1    1              6.0     1\n",
      "...        ...  ...              ...   ...\n",
      "5818439     12   31             24.0  1131\n",
      "5818465     12   31             -7.0  1131\n",
      "5818546     12   31            212.0  1131\n",
      "5818731     12   31             -7.0  1131\n",
      "5819004     12   31             -3.0  1131\n",
      "\n",
      "[105193 rows x 4 columns]\n"
     ]
    }
   ],
   "source": [
    "bfdf = flight_df[flight_df[\"ORIGIN_AIRPORT\"]==\"BOS\"]\n",
    "bfdf = bfdf[bfdf[\"CANCELLED\"]==False]\n",
    "bfdf = bfdf[[\"MONTH\", \"DAY\", \"DEPARTURE_DELAY\"]]\n",
    "bfdf.dropna()\n",
    "bfdf[\"DATE\"] = 100 * (bfdf[\"MONTH\"] - 1) + bfdf[\"DAY\"]\n",
    "u = pd.unique(bfdf[\"DATE\"])\n",
    "print(bfdf)"
   ]
  },
  {
   "cell_type": "code",
   "execution_count": 5,
   "metadata": {},
   "outputs": [],
   "source": [
    "df = pd.DataFrame(columns=[\"DEPARTURE_DELAY\"])\n",
    "df[\"DEPARTURE_DELAY\"] = bfdf.groupby([\"DATE\"])[\"DEPARTURE_DELAY\"].mean().values\n",
    "df[\"DATE\"] = u\n",
    "df[\"MONTH\"] = (df[\"DATE\"] / 100).astype(int) + 1\n",
    "df[\"DAY\"] = (df[\"DATE\"] % 100).astype(int)\n",
    "df = df.drop(columns=[\"DATE\"])"
   ]
  },
  {
   "cell_type": "markdown",
   "metadata": {},
   "source": [
    "## Process Weather Dataset"
   ]
  },
  {
   "cell_type": "code",
   "execution_count": 6,
   "metadata": {},
   "outputs": [
    {
     "name": "stdout",
     "output_type": "stream",
     "text": [
      "Index(['STATION', 'DATE', 'AWND', 'PRCP', 'SNOW', 'TAVG', 'TMAX', 'TMIN',\n",
      "       'WT01', 'WT02', 'WT03', 'WT04', 'WT05', 'WT06', 'WT08', 'WT09'],\n",
      "      dtype='object')\n"
     ]
    },
    {
     "data": {
      "text/html": [
       "<div>\n",
       "<style scoped>\n",
       "    .dataframe tbody tr th:only-of-type {\n",
       "        vertical-align: middle;\n",
       "    }\n",
       "\n",
       "    .dataframe tbody tr th {\n",
       "        vertical-align: top;\n",
       "    }\n",
       "\n",
       "    .dataframe thead th {\n",
       "        text-align: right;\n",
       "    }\n",
       "</style>\n",
       "<table border=\"1\" class=\"dataframe\">\n",
       "  <thead>\n",
       "    <tr style=\"text-align: right;\">\n",
       "      <th></th>\n",
       "      <th>AWND</th>\n",
       "      <th>PRCP</th>\n",
       "      <th>SNOW</th>\n",
       "      <th>TAVG</th>\n",
       "      <th>TMAX</th>\n",
       "      <th>TMIN</th>\n",
       "      <th>WT01</th>\n",
       "      <th>WT02</th>\n",
       "      <th>WT03</th>\n",
       "      <th>WT04</th>\n",
       "      <th>WT05</th>\n",
       "      <th>WT06</th>\n",
       "      <th>WT08</th>\n",
       "      <th>WT09</th>\n",
       "      <th>MONTH</th>\n",
       "      <th>DAY</th>\n",
       "    </tr>\n",
       "  </thead>\n",
       "  <tbody>\n",
       "    <tr>\n",
       "      <th>0</th>\n",
       "      <td>14.32</td>\n",
       "      <td>0.00</td>\n",
       "      <td>0.0</td>\n",
       "      <td>26</td>\n",
       "      <td>33</td>\n",
       "      <td>22</td>\n",
       "      <td>0.0</td>\n",
       "      <td>0.0</td>\n",
       "      <td>0.0</td>\n",
       "      <td>0.0</td>\n",
       "      <td>0.0</td>\n",
       "      <td>0.0</td>\n",
       "      <td>0.0</td>\n",
       "      <td>0.0</td>\n",
       "      <td>1</td>\n",
       "      <td>1</td>\n",
       "    </tr>\n",
       "    <tr>\n",
       "      <th>1</th>\n",
       "      <td>12.75</td>\n",
       "      <td>0.00</td>\n",
       "      <td>0.0</td>\n",
       "      <td>34</td>\n",
       "      <td>41</td>\n",
       "      <td>31</td>\n",
       "      <td>0.0</td>\n",
       "      <td>0.0</td>\n",
       "      <td>0.0</td>\n",
       "      <td>0.0</td>\n",
       "      <td>0.0</td>\n",
       "      <td>0.0</td>\n",
       "      <td>0.0</td>\n",
       "      <td>0.0</td>\n",
       "      <td>1</td>\n",
       "      <td>2</td>\n",
       "    </tr>\n",
       "    <tr>\n",
       "      <th>2</th>\n",
       "      <td>10.29</td>\n",
       "      <td>0.62</td>\n",
       "      <td>1.4</td>\n",
       "      <td>28</td>\n",
       "      <td>37</td>\n",
       "      <td>22</td>\n",
       "      <td>1.0</td>\n",
       "      <td>0.0</td>\n",
       "      <td>0.0</td>\n",
       "      <td>1.0</td>\n",
       "      <td>0.0</td>\n",
       "      <td>0.0</td>\n",
       "      <td>0.0</td>\n",
       "      <td>0.0</td>\n",
       "      <td>1</td>\n",
       "      <td>3</td>\n",
       "    </tr>\n",
       "    <tr>\n",
       "      <th>3</th>\n",
       "      <td>8.28</td>\n",
       "      <td>0.57</td>\n",
       "      <td>0.0</td>\n",
       "      <td>38</td>\n",
       "      <td>52</td>\n",
       "      <td>35</td>\n",
       "      <td>1.0</td>\n",
       "      <td>1.0</td>\n",
       "      <td>0.0</td>\n",
       "      <td>0.0</td>\n",
       "      <td>0.0</td>\n",
       "      <td>0.0</td>\n",
       "      <td>0.0</td>\n",
       "      <td>0.0</td>\n",
       "      <td>1</td>\n",
       "      <td>4</td>\n",
       "    </tr>\n",
       "    <tr>\n",
       "      <th>4</th>\n",
       "      <td>22.15</td>\n",
       "      <td>0.00</td>\n",
       "      <td>0.0</td>\n",
       "      <td>40</td>\n",
       "      <td>50</td>\n",
       "      <td>17</td>\n",
       "      <td>0.0</td>\n",
       "      <td>0.0</td>\n",
       "      <td>0.0</td>\n",
       "      <td>0.0</td>\n",
       "      <td>0.0</td>\n",
       "      <td>0.0</td>\n",
       "      <td>0.0</td>\n",
       "      <td>0.0</td>\n",
       "      <td>1</td>\n",
       "      <td>5</td>\n",
       "    </tr>\n",
       "  </tbody>\n",
       "</table>\n",
       "</div>"
      ],
      "text/plain": [
       "    AWND  PRCP  SNOW  TAVG  TMAX  TMIN  WT01  WT02  WT03  WT04  WT05  WT06  \\\n",
       "0  14.32  0.00   0.0    26    33    22   0.0   0.0   0.0   0.0   0.0   0.0   \n",
       "1  12.75  0.00   0.0    34    41    31   0.0   0.0   0.0   0.0   0.0   0.0   \n",
       "2  10.29  0.62   1.4    28    37    22   1.0   0.0   0.0   1.0   0.0   0.0   \n",
       "3   8.28  0.57   0.0    38    52    35   1.0   1.0   0.0   0.0   0.0   0.0   \n",
       "4  22.15  0.00   0.0    40    50    17   0.0   0.0   0.0   0.0   0.0   0.0   \n",
       "\n",
       "   WT08  WT09  MONTH  DAY  \n",
       "0   0.0   0.0      1    1  \n",
       "1   0.0   0.0      1    2  \n",
       "2   0.0   0.0      1    3  \n",
       "3   0.0   0.0      1    4  \n",
       "4   0.0   0.0      1    5  "
      ]
     },
     "execution_count": 6,
     "metadata": {},
     "output_type": "execute_result"
    }
   ],
   "source": [
    "wthr_df = pd.read_csv(weather)\n",
    "print(wthr_df.columns)\n",
    "wthr_df[['YEAR','MONTH','DAY']] = wthr_df.DATE.str.split(\"-\",expand=True)\n",
    "wthr_df = wthr_df.drop(columns=['STATION','DATE','YEAR'])\n",
    "wthr_df['MONTH'] = wthr_df['MONTH'].astype('int')\n",
    "wthr_df['DAY'] = wthr_df['DAY'].astype('int')\n",
    "wthr_df = wthr_df.replace(np.nan, 0)\n",
    "wthr_df.head()"
   ]
  },
  {
   "cell_type": "markdown",
   "metadata": {},
   "source": [
    "## Merge Dataset on Time"
   ]
  },
  {
   "cell_type": "code",
   "execution_count": 7,
   "metadata": {},
   "outputs": [],
   "source": [
    "mdf = pd.merge(wthr_df, df, on=['MONTH', 'DAY'])\n",
    "mdf[\"DEPARTURE_DELAY\"] = mdf[\"DEPARTURE_DELAY\"].astype(int)\n",
    "mdf.head()\n",
    "mdf.to_csv(\"merged.csv\", encoding='utf-8', index=False)"
   ]
  }
 ],
 "metadata": {
  "interpreter": {
   "hash": "31f2aee4e71d21fbe5cf8b01ff0e069b9275f58929596ceb00d14d90e3e16cd6"
  },
  "kernelspec": {
   "display_name": "Python 3.8.9 64-bit",
   "language": "python",
   "name": "python3"
  },
  "language_info": {
   "codemirror_mode": {
    "name": "ipython",
    "version": 3
   },
   "file_extension": ".py",
   "mimetype": "text/x-python",
   "name": "python",
   "nbconvert_exporter": "python",
   "pygments_lexer": "ipython3",
   "version": "3.8.9"
  },
  "orig_nbformat": 4
 },
 "nbformat": 4,
 "nbformat_minor": 2
}
